{
 "cells": [
  {
   "cell_type": "code",
   "execution_count": 44,
   "metadata": {},
   "outputs": [
    {
     "name": "stdout",
     "output_type": "stream",
     "text": [
      "[0.00000000e+00 8.54753814e+14 1.70950763e+15 2.56426144e+15\n",
      " 3.41901526e+15 4.27376907e+15 5.12852288e+15 5.98327670e+15\n",
      " 6.83803051e+15 7.69278433e+15]\n",
      "[0.00000000e+00 4.64158883e-05 4.64158883e-05 4.64158883e-05\n",
      " 4.64158883e-05 4.64158883e-05 4.64158883e-05 4.64158883e-05\n",
      " 4.64158883e-05 4.64158883e-05]\n",
      "[1.20000000e-01 4.64158883e-05 4.64158883e-05 4.64158883e-05\n",
      " 4.64158883e-05 4.64158883e-05 4.64158883e-05 4.64158883e-05\n",
      " 4.64158883e-05 4.64158883e-05]\n"
     ]
    },
    {
     "data": {
      "text/plain": [
       "[<matplotlib.lines.Line2D at 0x1b020876fa0>]"
      ]
     },
     "execution_count": 44,
     "metadata": {},
     "output_type": "execute_result"
    },
    {
     "data": {
      "image/png": "[encoded data removed]",
      "text/plain": [
       "<Figure size 432x288 with 1 Axes>"
      ]
     },
     "metadata": {
      "needs_background": "light"
     },
     "output_type": "display_data"
    }
   ],
   "source": [
    "import numpy as np\n",
    "from math import exp\n",
    "from scipy.integrate import solve_ivp\n",
    "from matplotlib import pyplot as plt\n",
    "#----------------Constants----------------\n",
    "T=298 #K\n",
    "n= 2\n",
    "R=8.314\n",
    "F=96485\n",
    "C_an=np.array([.12, .12,0, .12]) #NH4, PO4, Mg, H+. Molar\n",
    "z_k=np.array([1,-3,2,1])\n",
    "C_ca=C_an\n",
    "D_k=np.array([1.98e-9, 0.612e-9,0.705e-9, 9.310e-9])#m2/s from aquion.de\n",
    "phi_eq_an=-2.357 #V SHE\n",
    "phi_eq_ca=0\n",
    "\n",
    "C_NH4=0.12\n",
    "C_PO4=0.12\n",
    "\n",
    "#Water Chemistry\n",
    "K_eq=10**-13 #Solubility product\n",
    "C=K_eq**(1/3) #concentration at saturation\n",
    "k=1e-5 #rate constant of Mg2+\n",
    "\n",
    "#----Initialize some stuff-------\n",
    "t=np.arange(0.0,10.0,1)\n",
    "Q=np.zeros_like(t)\n",
    "N_Mg=np.zeros_like(t)\n",
    "C_Mg=np.zeros_like(t)\n",
    "C_NH4=np.zeros_like(t)\n",
    "C_PO4=np.zeros_like(t)\n",
    "N_struvite=np.zeros_like(t)\n",
    "\n",
    "P_H2=.01 #idk\n",
    "i_o=1e-5 #idk\n",
    "V_an=0.015 #L\n",
    "\n",
    "j_ext=10e-3 #A/cm2\n",
    "A=1.67 #cm2\n",
    "#i_ext=j*A\n",
    "beta=0.5\n",
    "\n",
    "#User Input\n",
    "phi_an=0 #V\n",
    "phi_ca=0 \n",
    "\n",
    "#-----------Anode--------------------\n",
    "#Calculate i_an and Coulombs for each time step\n",
    "\n",
    "\n",
    "count=0\n",
    "for time in t:\n",
    "    eta_an=phi_an-phi_eq_an\n",
    "    i_o= n*F*k*C_Mg**(1-beta)\n",
    "    i = i_o*(exp((1-beta)*F*eta_an/(R*T))-exp(-beta*F*eta_an/(R*T)))\n",
    "    Q[count]=i*time\n",
    "    N_Mg[count]=Q[count]/(n*F) #Faraday's Law to calculate moles of Mg2+\n",
    "    C_Mg[count]=N_Mg[count]/V_an\n",
    "    \n",
    "    C_NH4[count]=0.12\n",
    "    C_PO4[count]=0.12\n",
    "    Ksp=C_Mg[count]*C_NH4[count]*C_PO4[count]\n",
    "\n",
    "    if Ksp>K_eq: #Condition for precipitation\n",
    "        N_struvite[count]=(C_Mg[count]-C)*V_an #moles of struvite\n",
    "        C_Mg[count]=C\n",
    "        C_NH4[count]=C\n",
    "        C_PO4[count]\n",
    "    \n",
    "    count +=1\n",
    "print(Q)\n",
    "print(C_Mg)\n",
    "print(C_NH4)\n",
    "plt.plot(t,N_struvite)"
   ]
  },
  {
   "cell_type": "code",
   "execution_count": null,
   "metadata": {},
   "outputs": [],
   "source": []
  }
 ],
 "metadata": {
  "kernelspec": {
   "display_name": "Python 3",
   "language": "python",
   "name": "python3"
  },
  "language_info": {
   "codemirror_mode": {
    "name": "ipython",
    "version": 3
   },
   "file_extension": ".py",
   "mimetype": "text/x-python",
   "name": "python",
   "nbconvert_exporter": "python",
   "pygments_lexer": "ipython3",
   "version": "3.8.5"
  }
 },
 "nbformat": 4,
 "nbformat_minor": 4
}
