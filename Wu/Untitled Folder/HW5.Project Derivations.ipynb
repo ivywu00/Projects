{
 "cells": [
  {
   "cell_type": "markdown",
   "metadata": {},
   "source": [
    "# Electrochemical Nutrient Recovery"
   ]
  },
  {
   "cell_type": "markdown",
   "metadata": {},
   "source": [
    "I will attempt to model an electrochemical cell during electrochemical nutrient recovery with a sacrificial anode. The domain includes: <br><br>\n",
    "1) Solid Magnesium Metal anode <br>\n",
    "2) Aqueous electrolyte, 120mM ammonium dihydrogen phosphate <br>\n",
    "3) 316 Stainless Steel cathode\n",
    "\n",
    "pH starts at 7.0 and temperature is assumed to be constant at 298K. The state variables are: <br>\n",
    "1)Concentration of Mg, NH4, PO4, and H+ in the elyte, $[Mg^{2+}_{elyte}],[NH_{4, elyte}^{+}], [PO^{3-}_{4,elyte}],[ H^{+}_{elyte}] $ <br>\n",
    "2)Potential in the anode, cathode, and electrolyte, $\\phi_{an},\\phi_{ca}, \\phi_{elyte}$\n",
    "\n",
    "\n"
   ]
  },
  {
   "cell_type": "markdown",
   "metadata": {},
   "source": [
    "General conservation:\n",
    "    $ \\frac{dX}{dt}=X_{j-1}dA-X_{j+1}dA+X_{gen} $\n",
    "    "
   ]
  },
  {
   "cell_type": "markdown",
   "metadata": {},
   "source": [
    "Conservation of charge:\n",
    "\n",
    "\\begin{equation}\n",
    "    \\frac{\\partial Q_{\\rm el}}{\\partial t} = 0 = \\pm I_{\\rm ext} -i _{\\rm Far}A_{\\rm surf} - i_{\\rm dl}A_{\\rm surf}\n",
    "\\end{equation}\n",
    "\n",
    "and\n",
    "\n",
    "\\begin{equation}\n",
    "    i_{\\rm dl} = \\pm i_{\\rm ext}\\frac{A_{\\rm geo}}{A_{\\rm surf}} -i _{\\rm Far}\n",
    "\\end{equation}\n",
    "\n",
    "Flux: <br>\n",
    "$N_{k}= -D_{k}\\Delta C_{k} - D_{k}C_{k}*\\frac{z_{k}F}{RT} \\Delta\\phi$ <br>\n",
    "where $k$ = Mg, PO4, NH4"
   ]
  },
  {
   "cell_type": "markdown",
   "metadata": {},
   "source": [
    "$Mg ---> Mg^{2^{+}} + 2e^{-}   \\hspace{1cm} \\phi^{\\circ}=-2.357 V$ (SHE)<br>\n",
    "\n",
    "Conservation of species: <br>\n",
    "$[Mg]=[Mg^{2^{+}}]+[NH_{4}MgPO_{4}]+[Mg_{s}]$ <br>\n",
    "$[N]=[NH_{4}^{+}]+ [NH_{3,g}]+[NH_{4}MgPO_{4}]$ <br>\n",
    "$[H] = [H^{+}] + [H_2O] + [H_{2,g}] + [NH_{4}^{+}]+[NH_{3,g}]+[NH_{4}MgPO_{4}]$\n",
    "\n",
    "\n",
    "\n"
   ]
  },
  {
   "cell_type": "markdown",
   "metadata": {},
   "source": [
    "$\\phi_{an}=\\phi_{an}^\\circ-\\frac{RT}{nF}ln([Mg])$ <br>\n",
    "$\\phi_{ca}=\\phi_{ca}^\\circ-\\frac{RT}{nF}ln(\\frac{[P_{H2}]}{[H^{+}]})$ <br>\n",
    "$\\eta_{an}=\\phi_{ext}-\\phi_{an}$ <br>\n",
    "$\\eta_{ca}=\\phi_{ext}-\\phi_{ca}$ <Br>\n",
    "$i=i_{o}\\Bigg[exp(\\frac{(1-\\beta)*F*\\eta}{RT})-exp(\\frac{-\\beta F\\eta}{RT})\\Bigg]$"
   ]
  },
  {
   "cell_type": "code",
   "execution_count": null,
   "metadata": {},
   "outputs": [],
   "source": []
  },
  {
   "cell_type": "code",
   "execution_count": null,
   "metadata": {},
   "outputs": [],
   "source": []
  },
  {
   "cell_type": "code",
   "execution_count": null,
   "metadata": {},
   "outputs": [],
   "source": []
  }
 ],
 "metadata": {
  "kernelspec": {
   "display_name": "Python 3",
   "language": "python",
   "name": "python3"
  },
  "language_info": {
   "codemirror_mode": {
    "name": "ipython",
    "version": 3
   },
   "file_extension": ".py",
   "mimetype": "text/x-python",
   "name": "python",
   "nbconvert_exporter": "python",
   "pygments_lexer": "ipython3",
   "version": "3.8.5"
  }
 },
 "nbformat": 4,
 "nbformat_minor": 4
}
