{
 "cells": [
  {
   "cell_type": "code",
   "execution_count": 45,
   "metadata": {},
   "outputs": [
    {
     "ename": "ValueError",
     "evalue": "setting an array element with a sequence.",
     "output_type": "error",
     "traceback": [
      "\u001b[1;31m---------------------------------------------------------------------------\u001b[0m",
      "\u001b[1;31mTypeError\u001b[0m                                 Traceback (most recent call last)",
      "\u001b[1;31mTypeError\u001b[0m: only size-1 arrays can be converted to Python scalars",
      "\nThe above exception was the direct cause of the following exception:\n",
      "\u001b[1;31mValueError\u001b[0m                                Traceback (most recent call last)",
      "\u001b[1;32m<ipython-input-45-f7d53c441df7>\u001b[0m in \u001b[0;36m<module>\u001b[1;34m\u001b[0m\n\u001b[0;32m     54\u001b[0m     \u001b[0mi_o\u001b[0m\u001b[1;33m=\u001b[0m \u001b[0mn\u001b[0m\u001b[1;33m*\u001b[0m\u001b[0mF\u001b[0m\u001b[1;33m*\u001b[0m\u001b[0mk\u001b[0m\u001b[1;33m*\u001b[0m\u001b[0mC_Mg\u001b[0m\u001b[1;33m**\u001b[0m\u001b[1;33m(\u001b[0m\u001b[1;36m1\u001b[0m\u001b[1;33m-\u001b[0m\u001b[0mbeta\u001b[0m\u001b[1;33m)\u001b[0m\u001b[1;33m\u001b[0m\u001b[1;33m\u001b[0m\u001b[0m\n\u001b[0;32m     55\u001b[0m     \u001b[0mi\u001b[0m \u001b[1;33m=\u001b[0m \u001b[0mi_o\u001b[0m\u001b[1;33m*\u001b[0m\u001b[1;33m(\u001b[0m\u001b[0mexp\u001b[0m\u001b[1;33m(\u001b[0m\u001b[1;33m(\u001b[0m\u001b[1;36m1\u001b[0m\u001b[1;33m-\u001b[0m\u001b[0mbeta\u001b[0m\u001b[1;33m)\u001b[0m\u001b[1;33m*\u001b[0m\u001b[0mF\u001b[0m\u001b[1;33m*\u001b[0m\u001b[0meta_an\u001b[0m\u001b[1;33m/\u001b[0m\u001b[1;33m(\u001b[0m\u001b[0mR\u001b[0m\u001b[1;33m*\u001b[0m\u001b[0mT\u001b[0m\u001b[1;33m)\u001b[0m\u001b[1;33m)\u001b[0m\u001b[1;33m-\u001b[0m\u001b[0mexp\u001b[0m\u001b[1;33m(\u001b[0m\u001b[1;33m-\u001b[0m\u001b[0mbeta\u001b[0m\u001b[1;33m*\u001b[0m\u001b[0mF\u001b[0m\u001b[1;33m*\u001b[0m\u001b[0meta_an\u001b[0m\u001b[1;33m/\u001b[0m\u001b[1;33m(\u001b[0m\u001b[0mR\u001b[0m\u001b[1;33m*\u001b[0m\u001b[0mT\u001b[0m\u001b[1;33m)\u001b[0m\u001b[1;33m)\u001b[0m\u001b[1;33m)\u001b[0m\u001b[1;33m\u001b[0m\u001b[1;33m\u001b[0m\u001b[0m\n\u001b[1;32m---> 56\u001b[1;33m     \u001b[0mQ\u001b[0m\u001b[1;33m[\u001b[0m\u001b[0mcount\u001b[0m\u001b[1;33m]\u001b[0m\u001b[1;33m=\u001b[0m\u001b[0mi\u001b[0m\u001b[1;33m*\u001b[0m\u001b[0mtime\u001b[0m\u001b[1;33m\u001b[0m\u001b[1;33m\u001b[0m\u001b[0m\n\u001b[0m\u001b[0;32m     57\u001b[0m     \u001b[0mN_Mg\u001b[0m\u001b[1;33m[\u001b[0m\u001b[0mcount\u001b[0m\u001b[1;33m]\u001b[0m\u001b[1;33m=\u001b[0m\u001b[0mQ\u001b[0m\u001b[1;33m[\u001b[0m\u001b[0mcount\u001b[0m\u001b[1;33m]\u001b[0m\u001b[1;33m/\u001b[0m\u001b[1;33m(\u001b[0m\u001b[0mn\u001b[0m\u001b[1;33m*\u001b[0m\u001b[0mF\u001b[0m\u001b[1;33m)\u001b[0m \u001b[1;31m#Faraday's Law to calculate moles of Mg2+\u001b[0m\u001b[1;33m\u001b[0m\u001b[1;33m\u001b[0m\u001b[0m\n\u001b[0;32m     58\u001b[0m     \u001b[0mC_Mg\u001b[0m\u001b[1;33m[\u001b[0m\u001b[0mcount\u001b[0m\u001b[1;33m]\u001b[0m\u001b[1;33m=\u001b[0m\u001b[0mN_Mg\u001b[0m\u001b[1;33m[\u001b[0m\u001b[0mcount\u001b[0m\u001b[1;33m]\u001b[0m\u001b[1;33m/\u001b[0m\u001b[0mV_an\u001b[0m\u001b[1;33m\u001b[0m\u001b[1;33m\u001b[0m\u001b[0m\n",
      "\u001b[1;31mValueError\u001b[0m: setting an array element with a sequence."
     ]
    }
   ],
   "source": [
    "import numpy as np\n",
    "from math import exp\n",
    "from scipy.integrate import solve_ivp\n",
    "from matplotlib import pyplot as plt\n",
    "#----------------Constants----------------\n",
    "T=298 #K\n",
    "n= 2\n",
    "R=8.314\n",
    "F=96485\n",
    "C_an=np.array([.12, .12,0, .12]) #NH4, PO4, Mg, H+. Molar\n",
    "z_k=np.array([1,-3,2,1])\n",
    "C_ca=C_an\n",
    "D_k=np.array([1.98e-9, 0.612e-9,0.705e-9, 9.310e-9])#m2/s from aquion.de\n",
    "phi_eq_an=-2.357 #V SHE\n",
    "phi_eq_ca=0\n",
    "\n",
    "C_NH4=0.12\n",
    "C_PO4=0.12\n",
    "\n",
    "#Water Chemistry\n",
    "K_eq=10**-13 #Solubility product\n",
    "C=K_eq**(1/3) #concentration at saturation\n",
    "\n",
    "#----Initialize some stuff-------\n",
    "t=np.arange(0.0,10.0,1)\n",
    "Q=np.zeros_like(t)\n",
    "N_Mg=np.zeros_like(t)\n",
    "C_Mg=np.zeros_like(t)\n",
    "C_NH4=np.zeros_like(t)\n",
    "C_PO4=np.zeros_like(t)\n",
    "N_struvite=np.zeros_like(t)\n",
    "\n",
    "P_H2=.01 #idk\n",
    "i_o=1e-5 #idk\n",
    "V_an=0.015 #L\n",
    "\n",
    "j_ext=10e-3 #A/cm2\n",
    "A=1.67 #cm2\n",
    "#i_ext=j*A\n",
    "beta=0.5\n",
    "\n",
    "#User Input\n",
    "phi_an=0 #V\n",
    "phi_ca=0 \n",
    "\n",
    "#-----------Anode--------------------\n",
    "#Calculate i_an and Coulombs for each time step\n",
    "\n",
    "\n",
    "count=0\n",
    "for time in t:\n",
    "    eta_an=phi_an-phi_eq_an\n",
    "    i_o= C_Mg\n",
    "    i = i_o*(exp((1-beta)*F*eta_an/(R*T))-exp(-beta*F*eta_an/(R*T)))\n",
    "    Q[count]=i*time\n",
    "    N_Mg[count]=Q[count]/(n*F) #Faraday's Law to calculate moles of Mg2+\n",
    "    C_Mg[count]=N_Mg[count]/V_an\n",
    "    \n",
    "    C_NH4[count]=0.12\n",
    "    C_PO4[count]=0.12\n",
    "    Ksp=C_Mg[count]*C_NH4[count]*C_PO4[count]\n",
    "\n",
    "    if Ksp>K_eq: #Condition for pre\n",
    "        N_struvite[count]=(C_Mg[count]-C)*V_an #moles of struvite\n",
    "        C_Mg[count]=C\n",
    "        C_NH4[count]=C\n",
    "        C_PO4[count]\n",
    "    \n",
    "    count +=1\n",
    "print(Q)\n",
    "print(C_Mg)\n",
    "print(C_NH4)\n",
    "plt.plot(t,N_struvite)"
   ]
  },
  {
   "cell_type": "code",
   "execution_count": null,
   "metadata": {},
   "outputs": [],
   "source": []
  }
 ],
 "metadata": {
  "kernelspec": {
   "display_name": "Python 3",
   "language": "python",
   "name": "python3"
  },
  "language_info": {
   "codemirror_mode": {
    "name": "ipython",
    "version": 3
   },
   "file_extension": ".py",
   "mimetype": "text/x-python",
   "name": "python",
   "nbconvert_exporter": "python",
   "pygments_lexer": "ipython3",
   "version": "3.8.5"
  }
 },
 "nbformat": 4,
 "nbformat_minor": 4
}
